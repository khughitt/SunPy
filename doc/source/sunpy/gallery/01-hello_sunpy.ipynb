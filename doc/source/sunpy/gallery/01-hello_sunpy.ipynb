{
 "metadata": {
  "name": ""
 },
 "nbformat": 3,
 "nbformat_minor": 0,
 "worksheets": [
  {
   "cells": [
    {
     "cell_type": "markdown",
     "metadata": {},
     "source": [
      "Hello, Sunpy!\n",
      "=============\n",
      "To begin, let's import SunPy, and load one of the included sample maps."
     ]
    },
    {
     "cell_type": "code",
     "collapsed": false,
     "input": [
      "import sunpy\n",
      "from sunpy.map import Map\n",
      "aia = Map(sunpy.AIA_171_IMAGE)"
     ],
     "language": "python",
     "metadata": {},
     "outputs": [],
     "prompt_number": 1
    },
    {
     "cell_type": "markdown",
     "metadata": {},
     "source": [
      "Looks good! Let's see what our Map looks like."
     ]
    },
    {
     "cell_type": "code",
     "collapsed": false,
     "input": [
      "aia.peek()"
     ],
     "language": "python",
     "metadata": {},
     "outputs": [
      {
       "output_type": "stream",
       "stream": "stderr",
       "text": [
        "/usr/lib/python2.7/site-packages/matplotlib/figure.py:371: UserWarning: matplotlib is currently using a non-GUI backend, so cannot show the figure\n",
        "  \"matplotlib is currently using a non-GUI backend, \"\n"
       ]
      },
      {
       "metadata": {},
       "output_type": "pyout",
       "prompt_number": 2,
       "text": [
        "<matplotlib.figure.Figure at 0x2e6f750>"
       ]
      }
     ],
     "prompt_number": 2
    },
    {
     "cell_type": "markdown",
     "metadata": {},
     "source": [
      "Using IPython, we can easily inspect the properties of the Map:"
     ]
    },
    {
     "cell_type": "code",
     "collapsed": false,
     "input": [
      "aia"
     ],
     "language": "python",
     "metadata": {},
     "outputs": [
      {
       "metadata": {},
       "output_type": "pyout",
       "prompt_number": 3,
       "text": [
        "SunPy AIAMap\n",
        "---------\n",
        "Observatory:\t SDO\n",
        "Instrument:\t AIA_3\n",
        "Detector:\t AIA\n",
        "Measurement:\t 171\n",
        "Obs Date:\t 2011-03-19T10:54:00.34\n",
        "dt:\t\t 1.999601\n",
        "Dimension:\t [1024, 1024] \n",
        "[dx, dy] =\t [2.400000, 2.400000]\n",
        " \n",
        "array([[ 0.3125, -0.0625, -0.125 , ...,  0.625 , -0.625 ,  0.    ],\n",
        "       [ 1.    ,  0.1875, -0.8125, ...,  0.625 , -0.625 ,  0.    ],\n",
        "       [-1.1875,  0.375 , -0.5   , ..., -0.125 , -0.625 , -1.1875],\n",
        "       ..., \n",
        "       [-0.625 ,  0.0625, -0.3125, ...,  0.125 ,  0.125 ,  0.125 ],\n",
        "       [ 0.5625,  0.0625,  0.5625, ..., -0.0625, -0.0625,  0.    ],\n",
        "       [ 0.5   , -0.125 ,  0.4375, ...,  0.6875,  0.6875,  0.6875]])"
       ]
      }
     ],
     "prompt_number": 3
    }
   ],
   "metadata": {}
  }
 ]
}